{
 "cells": [
  {
   "cell_type": "markdown",
   "id": "6d6cebf2",
   "metadata": {},
   "source": [
    "# APM111 - Statistical Theory - FA 6"
   ]
  },
  {
   "cell_type": "code",
   "execution_count": 27,
   "id": "96251d4a",
   "metadata": {},
   "outputs": [],
   "source": [
    "import pandas as pd\n",
    "import numpy as np"
   ]
  },
  {
   "cell_type": "markdown",
   "id": "17f29372",
   "metadata": {},
   "source": [
    "## 1. Table 1 shows a frequency distribution of grades on a final examination in college algebra. Find the quartiles of the distribution."
   ]
  },
  {
   "cell_type": "code",
   "execution_count": 28,
   "id": "864b617b",
   "metadata": {
    "scrolled": true
   },
   "outputs": [
    {
     "data": {
      "text/html": [
       "<div>\n",
       "<style scoped>\n",
       "    .dataframe tbody tr th:only-of-type {\n",
       "        vertical-align: middle;\n",
       "    }\n",
       "\n",
       "    .dataframe tbody tr th {\n",
       "        vertical-align: top;\n",
       "    }\n",
       "\n",
       "    .dataframe thead th {\n",
       "        text-align: right;\n",
       "    }\n",
       "</style>\n",
       "<table border=\"1\" class=\"dataframe\">\n",
       "  <thead>\n",
       "    <tr style=\"text-align: right;\">\n",
       "      <th></th>\n",
       "      <th>Grade</th>\n",
       "      <th>Number of Students</th>\n",
       "    </tr>\n",
       "  </thead>\n",
       "  <tbody>\n",
       "    <tr>\n",
       "      <th>0</th>\n",
       "      <td>90-100</td>\n",
       "      <td>9</td>\n",
       "    </tr>\n",
       "    <tr>\n",
       "      <th>1</th>\n",
       "      <td>80-89</td>\n",
       "      <td>32</td>\n",
       "    </tr>\n",
       "    <tr>\n",
       "      <th>2</th>\n",
       "      <td>70-79</td>\n",
       "      <td>43</td>\n",
       "    </tr>\n",
       "    <tr>\n",
       "      <th>3</th>\n",
       "      <td>60-69</td>\n",
       "      <td>21</td>\n",
       "    </tr>\n",
       "    <tr>\n",
       "      <th>4</th>\n",
       "      <td>50-59</td>\n",
       "      <td>11</td>\n",
       "    </tr>\n",
       "    <tr>\n",
       "      <th>5</th>\n",
       "      <td>40-49</td>\n",
       "      <td>3</td>\n",
       "    </tr>\n",
       "    <tr>\n",
       "      <th>6</th>\n",
       "      <td>30-39</td>\n",
       "      <td>1</td>\n",
       "    </tr>\n",
       "  </tbody>\n",
       "</table>\n",
       "</div>"
      ],
      "text/plain": [
       "    Grade  Number of Students\n",
       "0  90-100                   9\n",
       "1   80-89                  32\n",
       "2   70-79                  43\n",
       "3   60-69                  21\n",
       "4   50-59                  11\n",
       "5   40-49                   3\n",
       "6   30-39                   1"
      ]
     },
     "execution_count": 28,
     "metadata": {},
     "output_type": "execute_result"
    }
   ],
   "source": [
    "df = pd.read_csv('algebra.csv')\n",
    "df"
   ]
  },
  {
   "cell_type": "code",
   "execution_count": 29,
   "id": "8eee7546",
   "metadata": {},
   "outputs": [],
   "source": [
    "def expand_grades(row):\n",
    "    range_start, range_end = map(int, row['Grade'].split('-'))\n",
    "    return [value for value in range(range_start, range_end + 1) for _ in range(row['Number of Students'])]\n",
    "\n",
    "expanded_grades = df.apply(expand_grades, axis=1).explode().astype(int)"
   ]
  },
  {
   "cell_type": "markdown",
   "id": "0993271a",
   "metadata": {},
   "source": [
    "### Quartiles"
   ]
  },
  {
   "cell_type": "code",
   "execution_count": 30,
   "id": "452c7a15",
   "metadata": {},
   "outputs": [
    {
     "name": "stdout",
     "output_type": "stream",
     "text": [
      "Quartiles \n",
      "25th Percentile: 67.0\n",
      "50th Percentile: 75.0\n",
      "75th Percentile: 83.0\n"
     ]
    }
   ],
   "source": [
    "# Calculate quartiles\n",
    "Q1 = expanded_grades.quantile(0.25)\n",
    "Q2 = expanded_grades.quantile(0.5)\n",
    "Q3 = expanded_grades.quantile(0.75)\n",
    "\n",
    "print(f'''Quartiles \n",
    "25th Percentile: {Q1}\n",
    "50th Percentile: {Q2}\n",
    "75th Percentile: {Q3}''')"
   ]
  },
  {
   "cell_type": "markdown",
   "id": "19c85bec",
   "metadata": {},
   "source": [
    "## 2a. On a final examination in statistics, the mean grade of a group of 150 students was 78 and the standard deviation was 8.0. In algebra, however, the mean final grade of the group was 73 and the standard deviation was 7.6. In which subject was there the greater absolute dispersion"
   ]
  },
  {
   "cell_type": "code",
   "execution_count": 34,
   "id": "d5c7ee85",
   "metadata": {},
   "outputs": [
    {
     "name": "stdout",
     "output_type": "stream",
     "text": [
      "The statistics subject has greater absolute dispersion, as indicated by its higher standard deviation (8 vs. 7.6).\n"
     ]
    }
   ],
   "source": [
    "number_of_students = 150\n",
    "\n",
    "# Statistics\n",
    "stats_mean = 78\n",
    "stats_sd = 8\n",
    "\n",
    "# Algebra\n",
    "algebra_mean = 73\n",
    "algebra_sd = 7.6\n",
    "\n",
    "if stats_sd > algebra_sd:\n",
    "    print(f'The statistics subject has greater absolute dispersion, as indicated by its higher standard deviation ({stats_sd} vs. {algebra_sd}).')\n",
    "elif stats_sd < algebra_sd:\n",
    "    print(f'The algebra subject has greater absolute dispersion, as indicated by its higher standard deviation ({algebra_sd} vs. {stats_sd}).')\n",
    "else:\n",
    "    print(f'Neither of the subject has the greater absolute dispersion due to both having the same standard deviation.')"
   ]
  },
  {
   "cell_type": "markdown",
   "id": "0d003a63",
   "metadata": {},
   "source": [
    "## 2b. In which subject was there the greater (b) relative dispersion?"
   ]
  },
  {
   "cell_type": "code",
   "execution_count": 36,
   "id": "fcb10ee0",
   "metadata": {},
   "outputs": [
    {
     "name": "stdout",
     "output_type": "stream",
     "text": [
      "The algebra subject has greater relative dispersion, as indicated by its higher relative dispersion (0.1041 vs 0.1026).\n"
     ]
    }
   ],
   "source": [
    "# Statistics\n",
    "stats_cv = round(stats_sd/stats_mean, 4)\n",
    "\n",
    "# Algebra\n",
    "algebra_cv = round(algebra_sd/algebra_mean, 4)\n",
    "\n",
    "if stats_cv > algebra_cv:\n",
    "    print(f'The statistics subject has greater relative dispersion, as indicated by its higher relative dispersion ({stats_cv} vs {algebra_cv}).')\n",
    "elif stats_cv < algebra_cv:\n",
    "    print(f'The algebra subject has greater relative dispersion, as indicated by its higher relative dispersion ({algebra_cv} vs {stats_cv}).')\n",
    "else:\n",
    "    print(f'Neither of the subject has the greater relative dispersion due to both having the same value of relative dispersion.')"
   ]
  },
  {
   "cell_type": "markdown",
   "id": "5079ee09",
   "metadata": {},
   "source": [
    "## 3. Prove that the mean and standard deviation of a set of standard scores are equal to 0 and 1, respectively. Use the following problem to illustrate this: Convert the set 6, 2, 8, 7, 5 into standard scores."
   ]
  },
  {
   "cell_type": "markdown",
   "id": "8c9c77b9",
   "metadata": {},
   "source": [
    "### a. Calculate the Mean (𝜇) of the Original Data Set"
   ]
  },
  {
   "cell_type": "code",
   "execution_count": 37,
   "id": "a79e2723",
   "metadata": {},
   "outputs": [],
   "source": [
    "data_set = [6, 2, 8, 7, 5]"
   ]
  },
  {
   "cell_type": "code",
   "execution_count": 39,
   "id": "0f89feb9",
   "metadata": {},
   "outputs": [
    {
     "name": "stdout",
     "output_type": "stream",
     "text": [
      "Data set mean: 5.6\n"
     ]
    }
   ],
   "source": [
    "data_set_mean = np.mean(data_set)\n",
    "print(f'Data set mean: {data_set_mean}')"
   ]
  },
  {
   "cell_type": "markdown",
   "id": "bed6d562",
   "metadata": {},
   "source": [
    "$$\n",
    "μ = \\frac{6+2+8+7+5}{5} = \\frac{28}{5} = 5.6\n",
    "$$"
   ]
  },
  {
   "cell_type": "markdown",
   "id": "a522356a",
   "metadata": {},
   "source": [
    "### b. Calculate the Standard Deviation (𝜎) of the Original Data Set"
   ]
  },
  {
   "cell_type": "code",
   "execution_count": 59,
   "id": "ba40a703",
   "metadata": {},
   "outputs": [
    {
     "name": "stdout",
     "output_type": "stream",
     "text": [
      "Deviation: [0.4, -3.6, 2.4, 1.4, -0.6]\n",
      "Square Deviation: [0.16, 12.96, 5.76, 1.96, 0.36]\n",
      "Variance: 4.24\n",
      "Standard Deviation: 2.06\n"
     ]
    }
   ],
   "source": [
    "# Calculate Each Deviation from the Mean\n",
    "dev_set = []\n",
    "for i in range(len(data_set)):\n",
    "    dev = round(data_set[i] - data_set_mean, 1)\n",
    "    dev_set.append(dev)\n",
    "\n",
    "print(f'Deviation: {dev_set}')\n",
    "\n",
    "# Square Each Deviation\n",
    "dev_squared = []\n",
    "for i in range(len(dev_set)):\n",
    "    square = round(dev_set[i] ** 2, 2)\n",
    "    dev_squared.append(square)\n",
    "    \n",
    "print(f'Square Deviation: {dev_squared}')\n",
    "    \n",
    "# Calculate the Variance\n",
    "var = sum(dev_squared)/len(dev_squared)\n",
    "\n",
    "print(f'Variance: {var}')\n",
    "\n",
    "# Calculate the Standard Deviation\n",
    "sd = round(np.sqrt(var), 2)\n",
    "\n",
    "print(f'Standard Deviation: {sd}')"
   ]
  },
  {
   "cell_type": "markdown",
   "id": "8bc39d40",
   "metadata": {},
   "source": [
    "#### Calculate Each Deviation from the Mean:\n",
    "$$\n",
    "6 - 5.6 = 0.4 \\\\\n",
    "2 - 5.6 = -3.6 \\\\\n",
    "8 - 5.6 = 2.4 \\\\\n",
    "7 - 5.6 = 1.4 \\\\\n",
    "5 - 5.6 = -0.6\n",
    "$$\n",
    "\n",
    "#### Square Each Deviation:\n",
    "$$\n",
    "0.4^2 = 0.16 \\\\\n",
    "-3.6^2 = 12.96 \\\\\n",
    "2.4^2 = 5.76 \\\\\n",
    "1.4^2 = 1.96 \\\\\n",
    "-0.6^2 = 0.36\n",
    "$$\n",
    "\n",
    "#### Calculate the Variance:\n",
    "$$\n",
    "Variance = \\frac{0.16+12.96+5.76+1.96+0.36}{5} = \\frac{21.2}{5} = 4.24\n",
    "$$\n",
    "\n",
    "#### Calculate the Standard Deviation:\n",
    "$$\n",
    "σ = \\sqrt{4.24} ≈ 2.06\n",
    "$$"
   ]
  },
  {
   "cell_type": "markdown",
   "id": "8d20e8d0",
   "metadata": {},
   "source": [
    "### c. Convert the Data Set into Standard Scores (z-scores)"
   ]
  },
  {
   "cell_type": "code",
   "execution_count": 62,
   "id": "acf1bb25",
   "metadata": {},
   "outputs": [
    {
     "data": {
      "text/plain": [
       "[0.194, -1.748, 1.165, 0.68, -0.291]"
      ]
     },
     "execution_count": 62,
     "metadata": {},
     "output_type": "execute_result"
    }
   ],
   "source": [
    "z_scores = []\n",
    "for i in range(len(data_set)):\n",
    "    z_score = round((data_set[i] - data_set_mean)/sd, 3)\n",
    "    z_scores.append(z_score)\n",
    "    \n",
    "z_scores"
   ]
  },
  {
   "cell_type": "markdown",
   "id": "f6802533",
   "metadata": {},
   "source": [
    "Using the formula:\n",
    "$$\n",
    "\n",
    "$$"
   ]
  }
 ],
 "metadata": {
  "kernelspec": {
   "display_name": "Python 3 (ipykernel)",
   "language": "python",
   "name": "python3"
  },
  "language_info": {
   "codemirror_mode": {
    "name": "ipython",
    "version": 3
   },
   "file_extension": ".py",
   "mimetype": "text/x-python",
   "name": "python",
   "nbconvert_exporter": "python",
   "pygments_lexer": "ipython3",
   "version": "3.9.13"
  }
 },
 "nbformat": 4,
 "nbformat_minor": 5
}
