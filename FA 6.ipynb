{
 "cells": [
  {
   "cell_type": "markdown",
   "id": "b8e13165",
   "metadata": {},
   "source": [
    "# APM111 - Statistical Theory - FA 6"
   ]
  },
  {
   "cell_type": "code",
   "execution_count": 27,
   "id": "96251d4a",
   "metadata": {},
   "outputs": [],
   "source": [
    "import pandas as pd\n",
    "import numpy as np"
   ]
  },
  {
   "cell_type": "markdown",
   "id": "8d5f623b",
   "metadata": {},
   "source": [
    "### 1. Table 1 shows a frequency distribution of grades on a final examination in college algebra. Find the quartiles of the distribution."
   ]
  },
  {
   "cell_type": "code",
   "execution_count": 28,
   "id": "864b617b",
   "metadata": {
    "scrolled": true
   },
   "outputs": [
    {
     "data": {
      "text/html": [
       "<div>\n",
       "<style scoped>\n",
       "    .dataframe tbody tr th:only-of-type {\n",
       "        vertical-align: middle;\n",
       "    }\n",
       "\n",
       "    .dataframe tbody tr th {\n",
       "        vertical-align: top;\n",
       "    }\n",
       "\n",
       "    .dataframe thead th {\n",
       "        text-align: right;\n",
       "    }\n",
       "</style>\n",
       "<table border=\"1\" class=\"dataframe\">\n",
       "  <thead>\n",
       "    <tr style=\"text-align: right;\">\n",
       "      <th></th>\n",
       "      <th>Grade</th>\n",
       "      <th>Number of Students</th>\n",
       "    </tr>\n",
       "  </thead>\n",
       "  <tbody>\n",
       "    <tr>\n",
       "      <th>0</th>\n",
       "      <td>90-100</td>\n",
       "      <td>9</td>\n",
       "    </tr>\n",
       "    <tr>\n",
       "      <th>1</th>\n",
       "      <td>80-89</td>\n",
       "      <td>32</td>\n",
       "    </tr>\n",
       "    <tr>\n",
       "      <th>2</th>\n",
       "      <td>70-79</td>\n",
       "      <td>43</td>\n",
       "    </tr>\n",
       "    <tr>\n",
       "      <th>3</th>\n",
       "      <td>60-69</td>\n",
       "      <td>21</td>\n",
       "    </tr>\n",
       "    <tr>\n",
       "      <th>4</th>\n",
       "      <td>50-59</td>\n",
       "      <td>11</td>\n",
       "    </tr>\n",
       "    <tr>\n",
       "      <th>5</th>\n",
       "      <td>40-49</td>\n",
       "      <td>3</td>\n",
       "    </tr>\n",
       "    <tr>\n",
       "      <th>6</th>\n",
       "      <td>30-39</td>\n",
       "      <td>1</td>\n",
       "    </tr>\n",
       "  </tbody>\n",
       "</table>\n",
       "</div>"
      ],
      "text/plain": [
       "    Grade  Number of Students\n",
       "0  90-100                   9\n",
       "1   80-89                  32\n",
       "2   70-79                  43\n",
       "3   60-69                  21\n",
       "4   50-59                  11\n",
       "5   40-49                   3\n",
       "6   30-39                   1"
      ]
     },
     "execution_count": 28,
     "metadata": {},
     "output_type": "execute_result"
    }
   ],
   "source": [
    "df = pd.read_csv('algebra.csv')\n",
    "df"
   ]
  },
  {
   "cell_type": "code",
   "execution_count": 29,
   "id": "8eee7546",
   "metadata": {},
   "outputs": [],
   "source": [
    "def expand_grades(row):\n",
    "    range_start, range_end = map(int, row['Grade'].split('-'))\n",
    "    return [value for value in range(range_start, range_end + 1) for _ in range(row['Number of Students'])]\n",
    "\n",
    "expanded_grades = df.apply(expand_grades, axis=1).explode().astype(int)"
   ]
  },
  {
   "cell_type": "markdown",
   "id": "2317e4e5",
   "metadata": {},
   "source": [
    "#### Quartiles"
   ]
  },
  {
   "cell_type": "code",
   "execution_count": 30,
   "id": "39bb9afe",
   "metadata": {},
   "outputs": [
    {
     "name": "stdout",
     "output_type": "stream",
     "text": [
      "Quartiles \n",
      "25th Percentile: 67.0\n",
      "50th Percentile: 75.0\n",
      "75th Percentile: 83.0\n"
     ]
    }
   ],
   "source": [
    "# Calculate quartiles\n",
    "Q1 = expanded_grades.quantile(0.25)\n",
    "Q2 = expanded_grades.quantile(0.5)\n",
    "Q3 = expanded_grades.quantile(0.75)\n",
    "\n",
    "print(f'''Quartiles \n",
    "25th Percentile: {Q1}\n",
    "50th Percentile: {Q2}\n",
    "75th Percentile: {Q3}''')"
   ]
  },
  {
   "cell_type": "markdown",
   "id": "c13234ca",
   "metadata": {},
   "source": [
    "### 2a. On a final examination in statistics, the mean grade of a group of 150 students was 78 and the standard deviation was 8.0. In algebra, however, the mean final grade of the group was 73 and the standard deviation was 7.6. In which subject was there the greater absolute dispersion"
   ]
  },
  {
   "cell_type": "code",
   "execution_count": 34,
   "id": "f0721ba8",
   "metadata": {},
   "outputs": [
    {
     "name": "stdout",
     "output_type": "stream",
     "text": [
      "The statistics subject has greater absolute dispersion, as indicated by its higher standard deviation (8 vs. 7.6).\n"
     ]
    }
   ],
   "source": [
    "number_of_students = 150\n",
    "\n",
    "# Statistics\n",
    "stats_mean = 78\n",
    "stats_sd = 8\n",
    "\n",
    "# Algebra\n",
    "algebra_mean = 73\n",
    "algebra_sd = 7.6\n",
    "\n",
    "if stats_sd > algebra_sd:\n",
    "    print(f'The statistics subject has greater absolute dispersion, as indicated by its higher standard deviation ({stats_sd} vs. {algebra_sd}).')\n",
    "elif stats_sd < algebra_sd:\n",
    "    print(f'The algebra subject has greater absolute dispersion, as indicated by its higher standard deviation ({algebra_sd} vs. {stats_sd}).')\n",
    "else:\n",
    "    print(f'Neither of the subject has the greater absolute dispersion due to both having the same standard deviation.')"
   ]
  },
  {
   "cell_type": "markdown",
   "id": "0f422aac",
   "metadata": {},
   "source": [
    "### 2b. In which subject was there the greater (b) relative dispersion?"
   ]
  },
  {
   "cell_type": "code",
   "execution_count": 36,
   "id": "822f9826",
   "metadata": {},
   "outputs": [
    {
     "name": "stdout",
     "output_type": "stream",
     "text": [
      "The algebra subject has greater relative dispersion, as indicated by its higher relative dispersion (0.1041 vs 0.1026).\n"
     ]
    }
   ],
   "source": [
    "# Statistics\n",
    "stats_cv = round(stats_sd/stats_mean, 4)\n",
    "\n",
    "# Algebra\n",
    "algebra_cv = round(algebra_sd/algebra_mean, 4)\n",
    "\n",
    "if stats_cv > algebra_cv:\n",
    "    print(f'The statistics subject has greater relative dispersion, as indicated by its higher relative dispersion ({stats_cv} vs {algebra_cv}).')\n",
    "elif stats_cv < algebra_cv:\n",
    "    print(f'The algebra subject has greater relative dispersion, as indicated by its higher relative dispersion ({algebra_cv} vs {stats_cv}).')\n",
    "else:\n",
    "    print(f'Neither of the subject has the greater relative dispersion due to both having the same value of relative dispersion.')"
   ]
  },
  {
   "cell_type": "markdown",
   "id": "0228b03d",
   "metadata": {},
   "source": [
    "### 3. Prove that the mean and standard deviation of a set of standard scores are equal to 0 and 1, respectively. Use the following problem to illustrate this: Convert the set 6, 2, 8, 7, 5 into standard scores."
   ]
  },
  {
   "cell_type": "markdown",
   "id": "29f45176",
   "metadata": {},
   "source": [
    "#### a. Calculate the Mean (𝜇) of the Original Data Set"
   ]
  },
  {
   "cell_type": "code",
   "execution_count": 37,
   "id": "81e866b2",
   "metadata": {},
   "outputs": [],
   "source": [
    "data_set = [6, 2, 8, 7, 5]"
   ]
  },
  {
   "cell_type": "code",
   "execution_count": 39,
   "id": "bc522ff5",
   "metadata": {},
   "outputs": [
    {
     "name": "stdout",
     "output_type": "stream",
     "text": [
      "Data set mean: 5.6\n"
     ]
    }
   ],
   "source": [
    "data_set_mean = np.mean(data_set)\n",
    "print(f'Data set mean: {data_set_mean}')"
   ]
  },
  {
   "cell_type": "markdown",
   "id": "a77da27b",
   "metadata": {},
   "source": [
    "$$\n",
    "μ = \\frac{6+2+8+7+5}{5} = \\frac{28}{5} = 5.6\n",
    "$$"
   ]
  },
  {
   "cell_type": "markdown",
   "id": "3c0d5720",
   "metadata": {},
   "source": [
    "#### b. Calculate the Standard Deviation (𝜎) of the Original Data Set"
   ]
  },
  {
   "cell_type": "code",
   "execution_count": 59,
   "id": "39eee866",
   "metadata": {},
   "outputs": [
    {
     "name": "stdout",
     "output_type": "stream",
     "text": [
      "Deviation: [0.4, -3.6, 2.4, 1.4, -0.6]\n",
      "Square Deviation: [0.16, 12.96, 5.76, 1.96, 0.36]\n",
      "Variance: 4.24\n",
      "Standard Deviation: 2.06\n"
     ]
    }
   ],
   "source": [
    "# Calculate Each Deviation from the Mean\n",
    "dev_set = []\n",
    "for i in range(len(data_set)):\n",
    "    dev = round(data_set[i] - data_set_mean, 1)\n",
    "    dev_set.append(dev)\n",
    "\n",
    "print(f'Deviation: {dev_set}')\n",
    "\n",
    "# Square Each Deviation\n",
    "dev_squared = []\n",
    "for i in range(len(dev_set)):\n",
    "    square = round(dev_set[i] ** 2, 2)\n",
    "    dev_squared.append(square)\n",
    "    \n",
    "print(f'Square Deviation: {dev_squared}')\n",
    "    \n",
    "# Calculate the Variance\n",
    "var = sum(dev_squared)/len(dev_squared)\n",
    "\n",
    "print(f'Variance: {var}')\n",
    "\n",
    "# Calculate the Standard Deviation\n",
    "sd = round(np.sqrt(var), 2)\n",
    "\n",
    "print(f'Standard Deviation: {sd}')"
   ]
  },
  {
   "cell_type": "markdown",
   "id": "ba6c4057",
   "metadata": {},
   "source": [
    "##### Calculate Each Deviation from the Mean:\n",
    "$$\n",
    "6 - 5.6 = 0.4 \\\\\n",
    "2 - 5.6 = -3.6 \\\\\n",
    "8 - 5.6 = 2.4 \\\\\n",
    "7 - 5.6 = 1.4 \\\\\n",
    "5 - 5.6 = -0.6\n",
    "$$\n",
    "\n",
    "##### Square Each Deviation:\n",
    "$$\n",
    "0.4^2 = 0.16 \\\\\n",
    "-3.6^2 = 12.96 \\\\\n",
    "2.4^2 = 5.76 \\\\\n",
    "1.4^2 = 1.96 \\\\\n",
    "-0.6^2 = 0.36\n",
    "$$\n",
    "\n",
    "##### Calculate the Variance:\n",
    "$$\n",
    "Variance = \\frac{0.16+12.96+5.76+1.96+0.36}{5} = \\frac{21.2}{5} = 4.24\n",
    "$$\n",
    "\n",
    "##### Calculate the Standard Deviation:\n",
    "$$\n",
    "σ = \\sqrt{4.24} ≈ 2.06\n",
    "$$"
   ]
  },
  {
   "cell_type": "markdown",
   "id": "71576279",
   "metadata": {},
   "source": [
    "#### c. Convert the Data Set into Standard Scores (z-scores)"
   ]
  },
  {
   "cell_type": "code",
   "execution_count": 70,
   "id": "3910916a",
   "metadata": {},
   "outputs": [
    {
     "name": "stdout",
     "output_type": "stream",
     "text": [
      "Standard Scores (z-scores): [0.194, -1.748, 1.165, 0.68, -0.291]\n"
     ]
    }
   ],
   "source": [
    "z_scores = []\n",
    "for i in range(len(data_set)):\n",
    "    z_score = round((data_set[i] - data_set_mean)/sd, 3)\n",
    "    z_scores.append(z_score)\n",
    "    \n",
    "print(f'Standard Scores (z-scores): {z_scores}')"
   ]
  },
  {
   "cell_type": "markdown",
   "id": "2baa1170",
   "metadata": {},
   "source": [
    "Using the formula:\n",
    "$$\n",
    "z = \\frac{(X - μ)}{σ}\n",
    "$$\n",
    "\n",
    "First Score:\n",
    "$$\n",
    "z = \\frac{6−5.6}{2.06} ≈ \\frac{0.4}{2.06} ≈ 0.194\n",
    "$$\n",
    "\n",
    "Second Score:\n",
    "$$\n",
    "z = \\frac{2−5.6}{2.06} ≈ \\frac{-3.6}{2.06} ≈ -1.748\n",
    "$$\n",
    "\n",
    "Third Score:\n",
    "$$\n",
    "z = \\frac{8−5.6}{2.06} ≈ \\frac{2.4}{2.06} ≈ 1.165\n",
    "$$\n",
    "\n",
    "Fourth Score:\n",
    "$$\n",
    "z = \\frac{7−5.6}{2.06} ≈ \\frac{1.4}{2.06} ≈ 0.68\n",
    "$$\n",
    "\n",
    "Fifth Score:\n",
    "$$\n",
    "z = \\frac{5−5.6}{2.06} ≈ \\frac{-0.6}{2.06} ≈ -0.291\n",
    "$$"
   ]
  },
  {
   "cell_type": "markdown",
   "id": "a4e2ad58",
   "metadata": {},
   "source": [
    "#### d. Calculate the Mean and Standard Deviation of the z-scores"
   ]
  },
  {
   "cell_type": "code",
   "execution_count": 84,
   "id": "ea342d49",
   "metadata": {},
   "outputs": [
    {
     "name": "stdout",
     "output_type": "stream",
     "text": [
      "Mean of Standard Scores (z-scores): 0.0\n"
     ]
    }
   ],
   "source": [
    "# Calculate the Mean\n",
    "z_scores_mean = round(sum(z_scores)/len(z_scores), 5)\n",
    "\n",
    "print(f'Mean of Standard Scores (z-scores): {z_scores_mean}')"
   ]
  },
  {
   "cell_type": "markdown",
   "id": "17e981be",
   "metadata": {},
   "source": [
    "##### Mean of Standard Scores (z-scores):\n",
    "$$\n",
    "Mean = \\frac{0.194+(−1.749)+1.165+0.679+(−0.291)}{5} ≈ \\frac{0}{5} ≈ 0\n",
    "$$\n",
    "\n",
    "##### Standard Deviation of z-scores:\n",
    "Since we have calculated z-scores based on the standard deviation of the original data, the standard deviation of the z-scores is always:\n",
    "$$\n",
    "σ_z=1\n",
    "$$\n",
    "\n",
    "##### Conclusion:\n",
    "The mean of the z-scores is 0. \\\n",
    "The standard deviation of the z-scores is 1."
   ]
  },
  {
   "cell_type": "markdown",
   "id": "b9373468",
   "metadata": {},
   "source": [
    "### 3a. Three masses are measured as 20.48, 35.97, and 62.34 g, with standard deviations of 0.21, 0.46, and 0.54 g, respectively. Find the (a) mean and (b) standard deviation of the sum of the masses."
   ]
  },
  {
   "cell_type": "code",
   "execution_count": 88,
   "id": "fc1cc1f1",
   "metadata": {},
   "outputs": [
    {
     "name": "stdout",
     "output_type": "stream",
     "text": [
      "Mean of the Masses: 39.6 grams\n",
      "Standard deviation of the sum of the masses: 0.74 grams\n"
     ]
    }
   ],
   "source": [
    "# Masses\n",
    "m1 = 20.48\n",
    "m2 = 35.97\n",
    "m3 = 62.34\n",
    "\n",
    "# Standard Deviations\n",
    "sd1 = 0.21\n",
    "sd2 = 0.46\n",
    "sd3 = 0.54\n",
    "\n",
    "# Mean\n",
    "masses_mean = round((m1+m2+m3)/3, 2)\n",
    "print(f'Mean of the Masses: {masses_mean} grams')\n",
    "\n",
    "# standard deviation of the sum of the masses\n",
    "m_sd1 = sd1 ** 2\n",
    "m_sd2 = sd2 ** 2\n",
    "m_sd3 = sd3 ** 2\n",
    "\n",
    "var_sum = m_sd1 + m_sd2 + m_sd3\n",
    "\n",
    "final_sd = round(np.sqrt(var_sum), 2)\n",
    "\n",
    "print(f'Standard deviation of the sum of the masses: {final_sd} grams')"
   ]
  },
  {
   "cell_type": "markdown",
   "id": "111bc780",
   "metadata": {},
   "source": [
    "### 5. The credit hour distribution at Metropolitan Technological College is as follows"
   ]
  },
  {
   "cell_type": "code",
   "execution_count": 106,
   "id": "26ea6212",
   "metadata": {},
   "outputs": [
    {
     "name": "stdout",
     "output_type": "stream",
     "text": [
      " x  p(x)\n",
      " 6   0.1\n",
      " 9   0.2\n",
      "12   0.4\n",
      "15   0.2\n",
      "18   0.1\n"
     ]
    }
   ],
   "source": [
    "data_MTC = {\n",
    "    'x': [6, 9, 12, 15, 18],\n",
    "    'p(x)': [0.1, 0.2, 0.4, 0.2, 0.1]\n",
    "}\n",
    "\n",
    "df_MTC = pd.DataFrame(data_MTC)\n",
    "print(df_MTC.to_string(index=False))"
   ]
  },
  {
   "cell_type": "markdown",
   "id": "4f352aaa",
   "metadata": {},
   "source": [
    "### Find 𝜇 and $𝜎^2$ . Give the 25 (with replacement) possible samples of size 2, their means, and their probabilities.\n"
   ]
  },
  {
   "cell_type": "code",
   "execution_count": 112,
   "id": "9d1da0df",
   "metadata": {},
   "outputs": [
    {
     "name": "stdout",
     "output_type": "stream",
     "text": [
      "      Sample  Mean  Probability\n",
      "0     (6, 6)   6.0         0.01\n",
      "1     (6, 9)   7.5         0.02\n",
      "2    (6, 12)   9.0         0.04\n",
      "3    (6, 15)  10.5         0.02\n",
      "4    (6, 18)  12.0         0.01\n",
      "5     (9, 6)   7.5         0.02\n",
      "6     (9, 9)   9.0         0.04\n",
      "7    (9, 12)  10.5         0.08\n",
      "8    (9, 15)  12.0         0.04\n",
      "9    (9, 18)  13.5         0.02\n",
      "10   (12, 6)   9.0         0.04\n",
      "11   (12, 9)  10.5         0.08\n",
      "12  (12, 12)  12.0         0.16\n",
      "13  (12, 15)  13.5         0.08\n",
      "14  (12, 18)  15.0         0.04\n",
      "15   (15, 6)  10.5         0.02\n",
      "16   (15, 9)  12.0         0.04\n",
      "17  (15, 12)  13.5         0.08\n",
      "18  (15, 15)  15.0         0.04\n",
      "19  (15, 18)  16.5         0.02\n",
      "20   (18, 6)  12.0         0.01\n",
      "21   (18, 9)  13.5         0.02\n",
      "22  (18, 12)  15.0         0.04\n",
      "23  (18, 15)  16.5         0.02\n",
      "24  (18, 18)  18.0         0.01\n"
     ]
    }
   ],
   "source": [
    "import itertools\n",
    "\n",
    "# Given data\n",
    "x_values = df_MTC['x']\n",
    "p_values = df_MTC['p(x)']\n",
    "\n",
    "# Calculate the population mean (mu)\n",
    "mu = sum([x * p for x, p in zip(x_values, p_values)])\n",
    "\n",
    "# Step 2: Calculate the population variance (sigma^2)\n",
    "variance = sum([(x - mu) ** 2 * p for x, p in zip(x_values, p_values)])\n",
    "\n",
    "# Generate all possible samples of size 2 (with replacement)\n",
    "samples = list(itertools.product(x_values, repeat=2))\n",
    "\n",
    "# Calculate the mean and probability for each sample\n",
    "sample_means = [(x1 + x2) / 2 for x1, x2 in samples]\n",
    "sample_probabilities = [\n",
    "    p_values[df_MTC.index[df_MTC['x'] == x1][0]] * p_values[df_MTC.index[df_MTC['x'] == x2][0]]\n",
    "    for x1, x2 in samples\n",
    "]\n",
    "\n",
    "# Combine results into a DataFrame\n",
    "results_df = pd.DataFrame({\n",
    "    'Sample': samples,\n",
    "    'Mean': sample_means,\n",
    "    'Probability': sample_probabilities\n",
    "})\n",
    "\n",
    "# Display the results\n",
    "print(results_df)"
   ]
  },
  {
   "cell_type": "code",
   "execution_count": null,
   "id": "4951ba8d",
   "metadata": {},
   "outputs": [],
   "source": []
  }
 ],
 "metadata": {
  "kernelspec": {
   "display_name": "Python 3 (ipykernel)",
   "language": "python",
   "name": "python3"
  },
  "language_info": {
   "codemirror_mode": {
    "name": "ipython",
    "version": 3
   },
   "file_extension": ".py",
   "mimetype": "text/x-python",
   "name": "python",
   "nbconvert_exporter": "python",
   "pygments_lexer": "ipython3",
   "version": "3.9.13"
  }
 },
 "nbformat": 4,
 "nbformat_minor": 5
}
